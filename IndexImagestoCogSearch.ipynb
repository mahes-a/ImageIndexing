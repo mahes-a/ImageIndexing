{
 "cells": [
  {
   "cell_type": "markdown",
   "metadata": {},
   "source": [
    "# Load Image File vectors from Storage Account into CogSearch \n",
    "### The Images from Storage Account are loaded into CogSearch by following below steps\n",
    "- Establish a connection with Storage Account using the Python SDK.\n",
    "- Retrieve the required image files from Storage Account container using the file stream download method.\n",
    "- Use Azure AI Vision to vectorize the Image files from Storage Account.\n",
    "- Index the vector chunks into Azure Cognitive Search.\n",
    "- Repeat the process for all the required files.\n",
    "\n",
    "#### Using the Azure Storage Python SDK  to fetch the file stream and use AI Vision to embed the image in memory and create a vector index\n",
    "Inspired from Below Repos\n",
    "- Azure Python SDK https://github.com/Azure/azure-sdk-for-python/tree/main/sdk/storage/azure-storage-blob\n",
    "- Refer to https://github.com/MSUSAzureAccelerators/Azure-Cognitive-Search-Azure-OpenAI-Accelerator/blob/main/04-Complex-Docs.ipynb\n",
    "- Refer to https://github.com/Azure/azureml-examples"
   ]
  },
  {
   "cell_type": "code",
   "execution_count": null,
   "metadata": {},
   "outputs": [],
   "source": [
    "pip install -r requirements.txt"
   ]
  },
  {
   "cell_type": "markdown",
   "metadata": {},
   "source": [
    "### Import required libraries and environment variables"
   ]
  },
  {
   "cell_type": "code",
   "execution_count": 1,
   "metadata": {},
   "outputs": [],
   "source": [
    "# Import required libraries  \n",
    "import os  \n",
    "import json  \n",
    "import requests\n",
    "import http.client, urllib.parse\n",
    "from tenacity import retry, stop_after_attempt, wait_fixed\n",
    "from dotenv import load_dotenv  \n",
    "from azure.core.credentials import AzureKeyCredential\n",
    "from azure.identity import DefaultAzureCredential\n",
    "from azure.search.documents import SearchClient  \n",
    "from azure.search.documents.indexes import SearchIndexClient  \n",
    "from azure.search.documents.models import (\n",
    "    RawVectorQuery,\n",
    ")\n",
    "from azure.search.documents.indexes.models import (  \n",
    " \n",
    "    ExhaustiveKnnParameters,  \n",
    "    ExhaustiveKnnVectorSearchAlgorithmConfiguration,\n",
    "    HnswParameters,  \n",
    "    HnswVectorSearchAlgorithmConfiguration,\n",
    "    SimpleField,\n",
    "    SearchField,  \n",
    "    SearchFieldDataType,  \n",
    "    SearchIndex,  \n",
    "    VectorSearch,  \n",
    "    VectorSearchAlgorithmKind,  \n",
    "    VectorSearchProfile,  \n",
    ")\n",
    "from azure.storage.blob import BlobServiceClient, BlobClient, ContainerClient\n",
    "\n",
    "from IPython.display import Image, display\n",
    "from tqdm import tqdm\n",
    "import requests\n",
    "  \n",
    "load_dotenv()  \n",
    "service_endpoint = os.getenv(\"AZURE_SEARCH_SERVICE_ENDPOINT\")  \n",
    "index_name = os.getenv(\"AZURE_SEARCH_INDEX_NAME\")\n",
    "api_version = os.getenv(\"AZURE_SEARCH_API_VERSION\")\n",
    "key = os.getenv(\"AZURE_SEARCH_ADMIN_KEY\")  \n",
    "aiVisionApiKey = os.getenv(\"AZURE_AI_VISION_API_KEY\")  \n",
    "aiVisionRegion = os.getenv(\"AZURE_AI_VISION_REGION\")\n",
    "credential = DefaultAzureCredential()\n",
    "# Setup the Payloads header for cog search\n",
    "headers = {'Content-Type': 'application/json','api-key': os.getenv('AZURE_SEARCH_ADMIN_KEY')}\n",
    "params = {'api-version': os.getenv('AZURE_SEARCH_API_VERSION')}"
   ]
  },
  {
   "cell_type": "markdown",
   "metadata": {},
   "source": [
    "### Get Image vectors uisng AI Vision"
   ]
  },
  {
   "cell_type": "code",
   "execution_count": 2,
   "metadata": {},
   "outputs": [],
   "source": [
    "@retry(stop=stop_after_attempt(5), wait=wait_fixed(1))\n",
    "def get_image_vector(image_path, key, region):\n",
    "    headers = {\n",
    "        'Ocp-Apim-Subscription-Key': key,\n",
    "    }\n",
    "\n",
    "    params = urllib.parse.urlencode({\n",
    "        'model-version': '2023-04-15',\n",
    "    })\n",
    "\n",
    "    try:\n",
    "        if image_path.startswith(('http://', 'https://')):\n",
    "            headers['Content-Type'] = 'application/json'              \n",
    "            body = json.dumps({\"url\": image_path})\n",
    "            \n",
    "        else:\n",
    "            headers['Content-Type'] = 'application/octet-stream'\n",
    "            with open(image_path, \"rb\") as filehandler:\n",
    "                image_data = filehandler.read()\n",
    "                body = image_data\n",
    "\n",
    "        conn = http.client.HTTPSConnection(f'{region}.api.cognitive.microsoft.com', timeout=3)\n",
    "        conn.request(\"POST\", \"/computervision/retrieval:vectorizeImage?api-version=2023-04-01-preview&%s\" % params, body, headers)\n",
    "        response = conn.getresponse()\n",
    "        data = json.load(response)\n",
    "        conn.close()\n",
    "\n",
    "        if response.status != 200:\n",
    "            raise Exception(f\"Error processing image {image_path}: {data.get('message', '')}\")\n",
    "        #print(data)\n",
    "        return data.get(\"vector\")\n",
    "\n",
    "    except (requests.exceptions.Timeout, http.client.HTTPException) as e:\n",
    "        print(f\"Timeout/Error for {image_path}. Retrying...\")\n",
    "        raise\n"
   ]
  },
  {
   "cell_type": "markdown",
   "metadata": {},
   "source": [
    "### Read the metadata Json blob and index the images"
   ]
  },
  {
   "cell_type": "code",
   "execution_count": 3,
   "metadata": {},
   "outputs": [],
   "source": [
    "from azure.storage.blob import BlobClient\n",
    "import json\n",
    "\n",
    "# Define a function that takes filename as input\n",
    "def read_json_blob(filename):\n",
    "    # Create a blob client with the connection string, container name, and blob name\n",
    "    # Create a blob client with the connection string, container name, and blob name\n",
    "    blob_client = BlobClient.from_connection_string(conn_str=os.getenv(\"AZURE_STORAGE_CONNECTION_STRING\"), \n",
    "                                                    container_name=os.getenv(\"AZURE_STORAGE_CONTAINER_NAME\"), blob_name=filename)\n",
    "    #get stream \n",
    "    stream = blob_client.download_blob()\n",
    "    file_content_stream = stream.readall()\n",
    "\n",
    "    # Parse the byte string as a JSON object\n",
    "    json_data = json.loads(file_content_stream)\n",
    "\n",
    "    # Print the JSON object\n",
    "    #print (json_data)\n",
    "    \n",
    "    \n",
    "    results = []\n",
    "    file_count = 1\n",
    "    images_per_file = 50\n",
    "\n",
    "    for idx, image_data in enumerate(json_data):\n",
    "        if image_data.get('image_path', None):\n",
    "            try:\n",
    "                vector = get_image_vector(\n",
    "                    image_data.get('image_path', None),\n",
    "                    aiVisionApiKey,\n",
    "                    aiVisionRegion\n",
    "                )\n",
    "            except Exception as e:\n",
    "                print(f\"Error processing image at index {idx}: {e}\")\n",
    "                vector = None\n",
    "            \n",
    "            # Only save result if vector is present AND description is present\n",
    "            description_present = image_data.get('description', '')\n",
    "            \n",
    "            if vector and description_present:\n",
    "                result = {\n",
    "                    \"id\": idx,\n",
    "                    \"image_vector\": vector,\n",
    "                    \"description\": description_present  # Always add the description, even if it's an empty string\n",
    "                }\n",
    "        results.append(result)\n",
    "    return results\n"
   ]
  },
  {
   "cell_type": "markdown",
   "metadata": {},
   "source": [
    "### List the blobs in your container using the ContainerClient"
   ]
  },
  {
   "cell_type": "code",
   "execution_count": 4,
   "metadata": {},
   "outputs": [],
   "source": [
    "#define a list for holding the file details \n",
    "files_to_index = []"
   ]
  },
  {
   "cell_type": "code",
   "execution_count": null,
   "metadata": {},
   "outputs": [],
   "source": [
    "container = ContainerClient.from_connection_string(conn_str=os.getenv(\"AZURE_STORAGE_CONNECTION_STRING\"), container_name=os.getenv(\"AZURE_STORAGE_CONTAINER_NAME\"))\n",
    "\n",
    "blob_list = container.list_blobs()\n",
    "for blob in blob_list:\n",
    "    print(blob)\n",
    "    files_to_index.append({\"file_name\": blob.name,\"file_url\": (os.getenv(\"AZURE_STORAGE_BASE_URL\")+ os.getenv(\"AZURE_STORAGE_CONTAINER_NAME\") + \"/\" + blob.name)})  "
   ]
  },
  {
   "cell_type": "markdown",
   "metadata": {},
   "source": [
    "### Get the file content Stream for the blobs async and use the AI  intelligence to create vectors"
   ]
  },
  {
   "cell_type": "code",
   "execution_count": 6,
   "metadata": {},
   "outputs": [],
   "source": [
    "for item in files_to_index:\n",
    "    item[\"image_map\"]= read_json_blob(filename=item[\"file_name\"])\n",
    "    \n",
    "    "
   ]
  },
  {
   "cell_type": "code",
   "execution_count": null,
   "metadata": {},
   "outputs": [],
   "source": [
    "#for item in files_to_index:\n",
    "    #print(item)"
   ]
  },
  {
   "cell_type": "markdown",
   "metadata": {},
   "source": [
    "### Create an index\n",
    "\n",
    "Create your search index schema and vector search configuration:"
   ]
  },
  {
   "cell_type": "code",
   "execution_count": null,
   "metadata": {},
   "outputs": [],
   "source": [
    "# Create a search index \n",
    "index_client = SearchIndexClient(endpoint=service_endpoint, credential=credential)  \n",
    "fields = [  \n",
    "    SimpleField(name=\"id\", type=SearchFieldDataType.String, key=True),  \n",
    "    SearchField(name=\"description\", type=SearchFieldDataType.String, sortable=True, filterable=True, facetable=True),  \n",
    "    SearchField(\n",
    "        name=\"image_vector\",  \n",
    "        hidden=True,\n",
    "        type=SearchFieldDataType.Collection(SearchFieldDataType.Single), \n",
    "        searchable=True,\n",
    "        vector_search_dimensions=1024,  \n",
    "        vector_search_profile=\"myHnswProfile\"\n",
    "    ),  \n",
    "]  \n",
    "  \n",
    "# Configure the vector search configuration  \n",
    "vector_search = VectorSearch(  \n",
    "    algorithms=[  \n",
    "        HnswVectorSearchAlgorithmConfiguration(  \n",
    "            name=\"myHnsw\",  \n",
    "            kind=VectorSearchAlgorithmKind.HNSW,  \n",
    "            parameters=HnswParameters(  \n",
    "                m=4,  \n",
    "                ef_construction=400,  \n",
    "                ef_search=1000,  \n",
    "                metric=\"cosine\",  \n",
    "            ),  \n",
    "        ),  \n",
    "            ExhaustiveKnnVectorSearchAlgorithmConfiguration(  \n",
    "            name=\"myExhaustiveKnn\",  \n",
    "            kind=VectorSearchAlgorithmKind.EXHAUSTIVE_KNN,  \n",
    "            parameters=ExhaustiveKnnParameters(  \n",
    "                metric=\"cosine\",  \n",
    "            ),  \n",
    "        ), \n",
    "    ],  \n",
    "   profiles=[  \n",
    "        VectorSearchProfile(  \n",
    "            name=\"myHnswProfile\",  \n",
    "            algorithm=\"myHnsw\",  \n",
    "        ),  \n",
    "        VectorSearchProfile(  \n",
    "            name=\"myExhaustiveKnnProfile\",  \n",
    "            algorithm=\"myExhaustiveKnn\",  \n",
    "        ),  \n",
    "    ],  \n",
    ")  \n",
    "  \n",
    "# Create the search index with the vector search configuration  \n",
    "index = SearchIndex(name=index_name, fields=fields, vector_search=vector_search)  \n",
    "result = index_client.create_or_update_index(index)  \n",
    "print(f\"{result.name} created\") "
   ]
  },
  {
   "cell_type": "markdown",
   "metadata": {},
   "source": [
    "### Push Image vector data to the index"
   ]
  },
  {
   "cell_type": "code",
   "execution_count": null,
   "metadata": {},
   "outputs": [],
   "source": [
    "%%time\n",
    "for item in files_to_index:\n",
    "    print(\"Uploading chunks from\",item[\"file_name\"])\n",
    "    for img in tqdm(item['image_map']):\n",
    "        try: \n",
    "            upload_payload = {\n",
    "                \"value\": [\n",
    "                    {\n",
    "                        \"id\": str(img[\"id\"]),\n",
    "                        \"image_vector\": img[\"image_vector\"],\n",
    "                        \"description\": img[\"description\"],\n",
    "                        \"@search.action\": \"upload\"\n",
    "                    },\n",
    "                ]\n",
    "            }\n",
    "            #print(upload_payload)\n",
    "            r = requests.post(os.environ['AZURE_SEARCH_SERVICE_ENDPOINT'] + \"/indexes/\" + index_name + \"/docs/index\",\n",
    "                                 data=json.dumps(upload_payload), headers=headers, params=params)\n",
    "            if r.status_code != 200:\n",
    "                print(r.status_code)\n",
    "                print(r.text)\n",
    "        except Exception as e:\n",
    "            print(\"Exception:\",e)\n",
    "            #print(content)"
   ]
  }
 ],
 "metadata": {
  "kernelspec": {
   "display_name": "Python 3",
   "language": "python",
   "name": "python3"
  },
  "language_info": {
   "codemirror_mode": {
    "name": "ipython",
    "version": 3
   },
   "file_extension": ".py",
   "mimetype": "text/x-python",
   "name": "python",
   "nbconvert_exporter": "python",
   "pygments_lexer": "ipython3",
   "version": "3.9.13"
  }
 },
 "nbformat": 4,
 "nbformat_minor": 2
}
